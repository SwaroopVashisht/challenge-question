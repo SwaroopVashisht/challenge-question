{
  "nbformat": 4,
  "nbformat_minor": 0,
  "metadata": {
    "colab": {
      "provenance": [],
      "authorship_tag": "ABX9TyPLyFMtlqWbdQnaLgxLyCD3",
      "include_colab_link": true
    },
    "kernelspec": {
      "name": "python3",
      "display_name": "Python 3"
    },
    "language_info": {
      "name": "python"
    }
  },
  "cells": [
    {
      "cell_type": "markdown",
      "metadata": {
        "id": "view-in-github",
        "colab_type": "text"
      },
      "source": [
        "<a href=\"https://colab.research.google.com/github/SwaroopVashisht/challenge-question/blob/main/Untitled0.ipynb\" target=\"_parent\"><img src=\"https://colab.research.google.com/assets/colab-badge.svg\" alt=\"Open In Colab\"/></a>"
      ]
    },
    {
      "cell_type": "code",
      "source": [],
      "metadata": {
        "id": "m61if37cwguG"
      },
      "execution_count": null,
      "outputs": []
    },
    {
      "cell_type": "code",
      "execution_count": 1,
      "metadata": {
        "colab": {
          "base_uri": "https://localhost:8080/"
        },
        "id": "sw0IcNGHwUb9",
        "outputId": "f3179a15-d62e-44a7-e0b9-2732cccded9c"
      },
      "outputs": [
        {
          "output_type": "stream",
          "name": "stdout",
          "text": [
            "['Ram', 'Shyam', 'Aman']\n",
            "['Aman', 'Ram', 'Shyam']\n"
          ]
        }
      ],
      "source": [
        "L=[\"Ram\",\"Shyam\",\"Aman\",]\n",
        "print(L)\n",
        "L.sort()\n",
        "print(L)\n"
      ]
    }
  ]
}